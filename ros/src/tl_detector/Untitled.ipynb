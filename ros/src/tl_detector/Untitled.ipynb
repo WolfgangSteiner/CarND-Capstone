{
 "cells": [
  {
   "cell_type": "code",
   "execution_count": 20,
   "metadata": {},
   "outputs": [
    {
     "name": "stdout",
     "output_type": "stream",
     "text": [
      "Populating the interactive namespace from numpy and matplotlib\n"
     ]
    }
   ],
   "source": [
    "import ros\n",
    "import rosbag\n",
    "import cv2\n",
    "import array as pa\n",
    "import numpy as np\n",
    "%pylab inline"
   ]
  },
  {
   "cell_type": "code",
   "execution_count": 4,
   "metadata": {},
   "outputs": [
    {
     "data": {
      "text/plain": [
       "<generator object read_messages at 0x7f8ccc7eef00>"
      ]
     },
     "execution_count": 4,
     "metadata": {},
     "output_type": "execute_result"
    }
   ],
   "source": [
    "\n",
    "bag = rosbag.Bag('/home/henrik/826953_2017-11-02-13-07-51.bag')\n",
    "bag.read_messages(topics=['/image_color'])\n",
    "#for topic, msg, t in bag.read_messages(topics=['chatter', 'numbers']):\n",
    "#         print msg\n",
    "#    bag.close()\n"
   ]
  },
  {
   "cell_type": "code",
   "execution_count": 9,
   "metadata": {},
   "outputs": [],
   "source": [
    "it = bag.read_messages(topics=['/image_color'])"
   ]
  },
  {
   "cell_type": "code",
   "execution_count": 47,
   "metadata": {},
   "outputs": [],
   "source": [
    "i = 0\n",
    "for topic, msg, t in bag.read_messages(topics=['/image_color']):\n",
    "    img = np.array(pa.array(\"B\", msg.data)).reshape(600,800,3).astype(numpy.uint8)\n",
    "    img = cv2.resize(img, (400,300))\n",
    "    cv2.imwrite(\"newdumpresize/file%05d.jpg\" % i ,img)\n",
    "    i += 1"
   ]
  },
  {
   "cell_type": "code",
   "execution_count": 43,
   "metadata": {},
   "outputs": [],
   "source": [
    "%%bash \n",
    "mkdir newdumpresize"
   ]
  },
  {
   "cell_type": "code",
   "execution_count": 42,
   "metadata": {},
   "outputs": [],
   "source": [
    "i = 0\n",
    "for topic, msg, t in bag.read_messages(topics=['/debug_image']):\n",
    "    img = np.array(pa.array(\"B\", msg.data)).reshape(300,400,3).astype(numpy.uint8)\n",
    "    img = cv2.cvtColor(img, cv2.COLOR_BGR2RGB)\n",
    "    cv2.imwrite(\"debug/file%05d.jpg\" % i ,img)\n",
    "    i += 1"
   ]
  },
  {
   "cell_type": "code",
   "execution_count": 45,
   "metadata": {},
   "outputs": [
    {
     "data": {
      "text/plain": [
       "\u001b[0;31mDocstring:\u001b[0m resize(src, dsize[, dst[, fx[, fy[, interpolation]]]]) -> dst\n",
       "\u001b[0;31mType:\u001b[0m      builtin_function_or_method\n"
      ]
     },
     "metadata": {},
     "output_type": "display_data"
    }
   ],
   "source": [
    "cv2.resize?"
   ]
  },
  {
   "cell_type": "code",
   "execution_count": null,
   "metadata": {},
   "outputs": [],
   "source": []
  }
 ],
 "metadata": {
  "kernelspec": {
   "display_name": "Python 2",
   "language": "python",
   "name": "python2"
  },
  "language_info": {
   "codemirror_mode": {
    "name": "ipython",
    "version": 2
   },
   "file_extension": ".py",
   "mimetype": "text/x-python",
   "name": "python",
   "nbconvert_exporter": "python",
   "pygments_lexer": "ipython2",
   "version": "2.7.12"
  }
 },
 "nbformat": 4,
 "nbformat_minor": 2
}
